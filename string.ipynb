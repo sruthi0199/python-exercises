{
 "cells": [
  {
   "cell_type": "code",
   "execution_count": 1,
   "id": "measured-optimization",
   "metadata": {},
   "outputs": [
    {
     "name": "stdout",
     "output_type": "stream",
     "text": [
      "ENTER A STRING\n",
      "Sruthi010199\n",
      "NUMBER OF DIGITS IN THE STRING: 6\n",
      "NUMBER OF LOWERCASE CHARACTERS IN THE STRING: 5\n",
      "NUMBER OF UPPERCASE CHARACTERS IN THE STRING: 1\n"
     ]
    }
   ],
   "source": [
    "print(\"ENTER A STRING\")\n",
    "s1=input()\n",
    "c1=0\n",
    "c2=0\n",
    "c3=0\n",
    "for i in range(len(s1)):\n",
    "    if(s1[i].isdigit()):\n",
    "        c1=c1+1\n",
    "    elif(s1[i].islower()):\n",
    "        c2=c2+1\n",
    "    elif(s1[i].isupper()):\n",
    "        c3=c3+1\n",
    "print(\"NUMBER OF DIGITS IN THE STRING:\",c1)\n",
    "print(\"NUMBER OF LOWERCASE CHARACTERS IN THE STRING:\",c2)\n",
    "print(\"NUMBER OF UPPERCASE CHARACTERS IN THE STRING:\",c3)"
   ]
  },
  {
   "cell_type": "code",
   "execution_count": 2,
   "id": "dirty-family",
   "metadata": {},
   "outputs": [
    {
     "name": "stdout",
     "output_type": "stream",
     "text": [
      "Enter a string:sruthi\n",
      "r t i "
     ]
    }
   ],
   "source": [
    "s1=input(\"Enter a string:\")\n",
    "i=1\n",
    "while i<len(s1):\n",
    "    print(s1[i],end=\" \")\n",
    "    i=i+2"
   ]
  },
  {
   "cell_type": "code",
   "execution_count": 3,
   "id": "noticed-swimming",
   "metadata": {},
   "outputs": [
    {
     "name": "stdout",
     "output_type": "stream",
     "text": [
      "Using inbuilt function\n",
      "Enter a string:SruThI\n",
      "r u h  \n",
      "Without built in function\n",
      "Enter a string:AbcdE\n",
      "b c d "
     ]
    }
   ],
   "source": [
    "print(\"Using inbuilt function\")\n",
    "s1=input(\"Enter a string:\")\n",
    "for i in range (len(s1)):\n",
    "    if(s1[i].islower()):\n",
    "        print(s1[i],end=\" \")\n",
    "print(\" \")\n",
    "print(\"Without built in function\")\n",
    "s2=input(\"Enter a string:\")\n",
    "for i in range(len(s2)):\n",
    "    if(ord(s2[i])>=97 and ord(s2[i])<=122):\n",
    "        print(s2[i],end=\" \")\n"
   ]
  },
  {
   "cell_type": "code",
   "execution_count": 5,
   "id": "enormous-portugal",
   "metadata": {},
   "outputs": [
    {
     "name": "stdout",
     "output_type": "stream",
     "text": [
      "Enter a string:suryanarayana\n",
      "r\n",
      "y\n",
      "a\n",
      "n\n",
      "The number of times r  is repeated: 2\n",
      "The number of times y  is repeated: 2\n",
      "The number of times a  is repeated: 5\n",
      "The number of times n  is repeated: 2\n"
     ]
    }
   ],
   "source": [
    "s1=input(\"Enter a string:\")\n",
    "dup=[]\n",
    "for i in s1:\n",
    "    if s1.count(i)>1:\n",
    "        if i not in dup:\n",
    "            dup.append(i)\n",
    "for i in dup:\n",
    "    print(i)\n",
    "for i in dup:\n",
    "    print(\"The number of times\",i,\" is repeated:\",s1.count(i))"
   ]
  },
  {
   "cell_type": "code",
   "execution_count": 6,
   "id": "sized-record",
   "metadata": {},
   "outputs": [
    {
     "name": "stdout",
     "output_type": "stream",
     "text": [
      "Enter a string:suryanarayana\n",
      "s u "
     ]
    }
   ],
   "source": [
    "s1=input(\"Enter a string:\")\n",
    "for i in s1:\n",
    "    if s1.count(i)==1:\n",
    "        print(i,end=\" \")"
   ]
  },
  {
   "cell_type": "code",
   "execution_count": 7,
   "id": "informed-butterfly",
   "metadata": {},
   "outputs": [
    {
     "name": "stdout",
     "output_type": "stream",
     "text": [
      "Enter a string:srut$@hi$\n",
      "sruthi"
     ]
    }
   ],
   "source": [
    "s1=input(\"Enter a string:\")\n",
    "for i in s1:\n",
    "    if(i.isalpha() or i.isdigit()):\n",
    "        print(i,end=\"\")"
   ]
  },
  {
   "cell_type": "code",
   "execution_count": 8,
   "id": "wooden-nerve",
   "metadata": {},
   "outputs": [
    {
     "name": "stdout",
     "output_type": "stream",
     "text": [
      "Enter a string:sachin-100-67\n",
      "TOTAL RUN SCORED BY sachin: 167\n",
      "sachin is not duct out in 1 match\n",
      "sachin is not duct out in 2 match\n"
     ]
    }
   ],
   "source": [
    "s1=input(\"Enter a string:\")\n",
    "sum=0\n",
    "lis=[]\n",
    "lis=s1.split(\"-\")\n",
    "for i in range(1,len(lis)):\n",
    "    lis[i]=int(lis[i])\n",
    "    sum=sum+lis[i]\n",
    "\n",
    "print(\"TOTAL RUN SCORED BY %s:\"%lis[0],sum)\n",
    "for i in range (1,len(lis)):\n",
    "    if(lis[i]>0):\n",
    "        print(lis[0]+\" is not duct out in %d match\"%i)\n",
    "    else:\n",
    "        print(lis[0] + \" is duct out in %d match\" % i)"
   ]
  },
  {
   "cell_type": "code",
   "execution_count": 9,
   "id": "christian-somalia",
   "metadata": {},
   "outputs": [
    {
     "name": "stdout",
     "output_type": "stream",
     "text": [
      "Using in-built function\n",
      "Enter a string:abcde\n",
      "Length of the string is: 5\n",
      "Without using built-in functuion\n",
      "Enter a string:sruthi\n",
      "Length of the string: 6\n"
     ]
    }
   ],
   "source": [
    "print(\"Using in-built function\")\n",
    "s1=input(\"Enter a string:\")\n",
    "print(\"Length of the string is:\",len(s1))\n",
    "print(\"Without using built-in functuion\")\n",
    "s2=input(\"Enter a string:\")\n",
    "ctr=0\n",
    "for i in s2:\n",
    "    ctr=ctr+1\n",
    "print(\"Length of the string:\",ctr)"
   ]
  },
  {
   "cell_type": "code",
   "execution_count": 10,
   "id": "technical-bachelor",
   "metadata": {},
   "outputs": [
    {
     "name": "stdout",
     "output_type": "stream",
     "text": [
      "Enter a string:abcde\n",
      "edcba\n",
      "WITHOUT BUILT-IN FUNCTION\n",
      "edcba"
     ]
    }
   ],
   "source": [
    "s1=input(\"Enter a string:\")\n",
    "txt=s1[::-1]\n",
    "print(txt)\n",
    "print(\"WITHOUT BUILT-IN FUNCTION\")\n",
    "i=len(s1)-1\n",
    "while(i>=0):\n",
    "    print(s1[i],end=\"\")\n",
    "    i=i-1"
   ]
  },
  {
   "cell_type": "code",
   "execution_count": 11,
   "id": "concrete-being",
   "metadata": {},
   "outputs": [
    {
     "name": "stdout",
     "output_type": "stream",
     "text": [
      "Enter a sentence:Is This beautiful\n",
      "This Is beautiful\n"
     ]
    }
   ],
   "source": [
    "s1=input(\"Enter a sentence:\")\n",
    "lis=[]\n",
    "lis=s1.split(\" \")\n",
    "temp=lis[0]\n",
    "lis[0]=lis[1]\n",
    "lis[1]=temp\n",
    "s1=\" \".join(lis)\n",
    "print(s1)"
   ]
  },
  {
   "cell_type": "code",
   "execution_count": 12,
   "id": "athletic-screw",
   "metadata": {},
   "outputs": [
    {
     "name": "stdout",
     "output_type": "stream",
     "text": [
      "Enter a string:abcde\n",
      "['a', 'b', 'c', 'd', 'e']\n"
     ]
    }
   ],
   "source": [
    "s1=input(\"Enter a string:\")\n",
    "lis=[]\n",
    "lis=list(s1)\n",
    "print(lis)"
   ]
  },
  {
   "cell_type": "code",
   "execution_count": 13,
   "id": "varied-probability",
   "metadata": {},
   "outputs": [
    {
     "name": "stdout",
     "output_type": "stream",
     "text": [
      "Enter a string:suryanarayana\n",
      "Enter a character:a\n",
      "First occurence: 4\n",
      "List of all indexes where a occurs: [4, 6, 8, 10, 12]\n"
     ]
    }
   ],
   "source": [
    "s1=input(\"Enter a string:\")\n",
    "ch=input(\"Enter a character:\")\n",
    "lis=[]\n",
    "if(ch in s1):\n",
    "    print(\"First occurence:\",s1.index(ch))\n",
    "    for i in range(len(s1)):\n",
    "        if(s1[i]==ch):\n",
    "            lis.append(i)\n",
    "    print(\"List of all indexes where %s occurs:\"%ch,lis)\n",
    "else:\n",
    "    print(\"Character is not found in the string\")\n"
   ]
  },
  {
   "cell_type": "code",
   "execution_count": 14,
   "id": "surprised-helmet",
   "metadata": {},
   "outputs": [
    {
     "name": "stdout",
     "output_type": "stream",
     "text": [
      "Enter a string:abcdee\n",
      "Enter a string:eedbgt\n",
      "{'b', 'd', 'e'}\n"
     ]
    }
   ],
   "source": [
    "s1=input(\"Enter a string:\")\n",
    "s2=input(\"Enter a string:\")\n",
    "set1=set(s1)\n",
    "set2=set(s2)\n",
    "set1.intersection_update(set2)\n",
    "print(set1)"
   ]
  }
 ],
 "metadata": {
  "kernelspec": {
   "display_name": "Python 3",
   "language": "python",
   "name": "python3"
  },
  "language_info": {
   "codemirror_mode": {
    "name": "ipython",
    "version": 3
   },
   "file_extension": ".py",
   "mimetype": "text/x-python",
   "name": "python",
   "nbconvert_exporter": "python",
   "pygments_lexer": "ipython3",
   "version": "3.6.13"
  }
 },
 "nbformat": 4,
 "nbformat_minor": 5
}
