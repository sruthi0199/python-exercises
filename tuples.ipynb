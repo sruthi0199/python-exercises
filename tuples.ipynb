{
 "cells": [
  {
   "cell_type": "code",
   "execution_count": 1,
   "id": "level-administration",
   "metadata": {},
   "outputs": [
    {
     "name": "stdout",
     "output_type": "stream",
     "text": [
      "Length of tuple: 9\n",
      "Count of item in tuple: 2\n",
      "Index of item: 1\n",
      "FIRST FIVE ITEMS IN TUPLE:\n",
      "10 sachin False 67.23 20  \n",
      "TUPLE REVERSE:\n",
      "True gautham bunny 20 20 67.23 False sachin  \n",
      "After appending an item: (10, 'sachin', False, 67.23, 20, 20, 'bunny', 'gautham', True, 'gambhir')\n",
      "String items in tuple:\n",
      "sachin bunny gautham gambhir "
     ]
    }
   ],
   "source": [
    "tup=(10,'sachin',False,67.23,20,20,'bunny','gautham',True)\n",
    "lis=[]\n",
    "print(\"Length of tuple:\",len(tup))\n",
    "print(\"Count of item in tuple:\",tup.count(20))\n",
    "print(\"Index of item:\",tup.index('sachin'))\n",
    "print(\"FIRST FIVE ITEMS IN TUPLE:\")\n",
    "for i in range(0,5):\n",
    "    print(tup[i],end=\" \")\n",
    "print(\" \")\n",
    "print(\"TUPLE REVERSE:\")\n",
    "for i in range(len(tup)-1,0,-1):\n",
    "    print(tup[i],end=\" \")\n",
    "print(\" \")\n",
    "lis=list(tup)\n",
    "lis.append('gambhir')\n",
    "tup=tuple(lis)\n",
    "print(\"After appending an item:\",tup)\n",
    "print(\"String items in tuple:\")\n",
    "for i in tup:\n",
    "    if(type(i)==str):\n",
    "        print(i,end=\" \")"
   ]
  },
  {
   "cell_type": "code",
   "execution_count": 2,
   "id": "smooth-heritage",
   "metadata": {},
   "outputs": [
    {
     "name": "stdout",
     "output_type": "stream",
     "text": [
      "sunitha\n",
      "sukanya\n"
     ]
    }
   ],
   "source": [
    "tup=('sunitha','saranya','sukanya','druthi','sushma')\n",
    "for i in tup:\n",
    "    if(i.startswith('su') and len(i)>6):\n",
    "        print(i)"
   ]
  },
  {
   "cell_type": "code",
   "execution_count": 3,
   "id": "yellow-ethics",
   "metadata": {},
   "outputs": [
    {
     "name": "stdout",
     "output_type": "stream",
     "text": [
      "151\n",
      "777\n"
     ]
    }
   ],
   "source": [
    "tup=(123,151,234,561,777)\n",
    "for i in tup:\n",
    "    n=i\n",
    "    r=0\n",
    "    while(n>0):\n",
    "        d=n%10\n",
    "        r=r*10+d\n",
    "        n=n//10\n",
    "    if(r==i):\n",
    "        print(i)"
   ]
  },
  {
   "cell_type": "code",
   "execution_count": 4,
   "id": "completed-forge",
   "metadata": {},
   "outputs": [
    {
     "name": "stdout",
     "output_type": "stream",
     "text": [
      "PERSONS WHO SCORED CENTURY IN BOTH MATCHES:\n",
      "kapil\n"
     ]
    }
   ],
   "source": [
    "tup=('sachin-0-12','kapil-100-100','dhoni-34-80')\n",
    "lis=[]\n",
    "ctr=0\n",
    "lis=list(tup)\n",
    "print(\"PERSONS WHO SCORED CENTURY IN BOTH MATCHES:\")\n",
    "for i in lis:\n",
    "    lis1=[]\n",
    "    lis1=i.split(\"-\")\n",
    "    run1=int(lis1[1])\n",
    "    run2=int(lis1[2])\n",
    "    if(run1>=100 and run2>=100):\n",
    "        print(lis1[0])\n",
    "    else:\n",
    "        ctr=ctr+1\n",
    "if(ctr==len(lis)):\n",
    "    print(\"NO ONE SCORED CENTURY IN BOTH MATCHES\")"
   ]
  },
  {
   "cell_type": "code",
   "execution_count": 5,
   "id": "excellent-bridge",
   "metadata": {},
   "outputs": [
    {
     "name": "stdout",
     "output_type": "stream",
     "text": [
      "Enter comma-separated alphabets:a,b,c,d\n",
      "('a', 'b', 'c', 'd')\n",
      "SECOND METHOD\n",
      "Enter a string:sruthi\n",
      "('s', 'r', 'u', 't', 'h', 'i')\n",
      "THIRD METHOD\n",
      "Enter an alphabet:a\n",
      "Enter an alphabet:b\n",
      "Enter an alphabet:c\n",
      "Enter an alphabet:1\n",
      "('a', 'b', 'c')\n"
     ]
    }
   ],
   "source": [
    "s1=input(\"Enter comma-separated alphabets:\")\n",
    "lis=s1.split(\",\")\n",
    "tup=tuple(lis)\n",
    "print(tup)\n",
    "print(\"SECOND METHOD\")\n",
    "lis1=[]\n",
    "s2=input(\"Enter a string:\")\n",
    "for i in s2:\n",
    "    lis1.append(i)\n",
    "tup1=tuple(lis1)\n",
    "print(tup1)\n",
    "print(\"THIRD METHOD\")\n",
    "l1=[]\n",
    "while(True):\n",
    "    s2=input(\"Enter an alphabet:\")\n",
    "    if(s2.isalpha()):\n",
    "        l1.append(s2)\n",
    "        t1=tuple(l1)\n",
    "    else:\n",
    "        break\n",
    "print(t1)"
   ]
  },
  {
   "cell_type": "code",
   "execution_count": 6,
   "id": "settled-consortium",
   "metadata": {},
   "outputs": [
    {
     "name": "stdout",
     "output_type": "stream",
     "text": [
      "ENTER A STRING:sruthi\n",
      "['u', 'i']\n"
     ]
    }
   ],
   "source": [
    "s1=input(\"ENTER A STRING:\")\n",
    "lis=[]\n",
    "new=[]\n",
    "for i in s1:\n",
    "    lis.append(i)\n",
    "tup=tuple(lis)\n",
    "new=[i for i in tup if(i=='a'or i=='e' or i=='i' or i=='o' or i=='u' or i=='A'or i=='E' or i=='I' or i=='O' or i=='U')]\n",
    "print(new)"
   ]
  },
  {
   "cell_type": "code",
   "execution_count": 7,
   "id": "sensitive-seafood",
   "metadata": {},
   "outputs": [
    {
     "name": "stdout",
     "output_type": "stream",
     "text": [
      "abcde\n",
      "{1: 'a', 2: 'b'}\n"
     ]
    }
   ],
   "source": [
    "tup=('a','b','c','d','e')\n",
    "string=''.join(tup)\n",
    "print(string)\n",
    "tup1=((1,\"a\"),(2,\"b\"))\n",
    "dict=dict(tup1)\n",
    "print(dict)"
   ]
  }
 ],
 "metadata": {
  "kernelspec": {
   "display_name": "Python 3",
   "language": "python",
   "name": "python3"
  },
  "language_info": {
   "codemirror_mode": {
    "name": "ipython",
    "version": 3
   },
   "file_extension": ".py",
   "mimetype": "text/x-python",
   "name": "python",
   "nbconvert_exporter": "python",
   "pygments_lexer": "ipython3",
   "version": "3.6.13"
  }
 },
 "nbformat": 4,
 "nbformat_minor": 5
}
